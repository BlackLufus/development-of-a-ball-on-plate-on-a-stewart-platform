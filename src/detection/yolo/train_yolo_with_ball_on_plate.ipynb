{
  "cells": [
    {
      "cell_type": "markdown",
      "metadata": {},
      "source": [
        "# This training was conducted via Google Collab\n",
        "\n",
        "### 1. Import all necessary files from google drive"
      ]
    },
    {
      "cell_type": "code",
      "execution_count": null,
      "metadata": {
        "colab": {
          "base_uri": "https://localhost:8080/"
        },
        "id": "0acV83m3NmQ1",
        "outputId": "7d8de712-04e0-45e0-b622-0805fb9618c6"
      },
      "outputs": [],
      "source": [
        "!rm -rf model/\n",
        "!ls\n",
        "!unzip '/content/drive/My Drive/model.zip' -d /content\n",
        "!ls /content"
      ]
    },
    {
      "cell_type": "code",
      "execution_count": null,
      "metadata": {
        "colab": {
          "base_uri": "https://localhost:8080/"
        },
        "id": "XC335Y8KT8n-",
        "outputId": "7eedd13a-561a-4750-84bb-f41cbbe6d6ed"
      },
      "outputs": [],
      "source": [
        "from google.colab import drive\n",
        "drive.mount('/content/drive')"
      ]
    },
    {
      "cell_type": "markdown",
      "metadata": {},
      "source": [
        "### 2. Install all necessary requirements, like ultralytics the framework for training yolo models"
      ]
    },
    {
      "cell_type": "code",
      "execution_count": null,
      "metadata": {
        "colab": {
          "base_uri": "https://localhost:8080/"
        },
        "id": "znQJronlRbYc",
        "outputId": "c61e3e31-a7ef-40c6-c7e9-10ae78c69ce3"
      },
      "outputs": [],
      "source": [
        "!pip install ultralytics\n",
        "!pip install -U scikit-learn"
      ]
    },
    {
      "cell_type": "markdown",
      "metadata": {},
      "source": [
        "### 3. Setup dateset structure and split data to train, test and validation data\n"
      ]
    },
    {
      "cell_type": "markdown",
      "metadata": {},
      "source": [
        "### 4. Create yaml with all required information of dataset"
      ]
    },
    {
      "cell_type": "markdown",
      "metadata": {},
      "source": [
        "### 5. Start training and wait until it is finished"
      ]
    },
    {
      "cell_type": "code",
      "execution_count": null,
      "metadata": {
        "colab": {
          "base_uri": "https://localhost:8080/"
        },
        "id": "o-BtbhJ1Rdqp",
        "outputId": "a6f53dc7-f342-413d-e33c-94b7ef493328"
      },
      "outputs": [],
      "source": [
        "!rm -rf dataset/\n",
        "import os\n",
        "print(os.path.abspath(\"dataset\"))\n",
        "import shutil\n",
        "from ultralytics import YOLO\n",
        "from sklearn.model_selection import train_test_split\n",
        "import yaml\n",
        "import torch\n",
        "\n",
        "def setup_yolo_dataset(image_dir, label_dir, dataset_dir):\n",
        "    \"\"\" Erstellt die YOLO Dataset Struktur \"\"\"\n",
        "    os.makedirs(dataset_dir, exist_ok=True)\n",
        "    for split in ['train', 'val', 'test']:\n",
        "        os.makedirs(os.path.join(dataset_dir, 'images', split), exist_ok=True)\n",
        "        os.makedirs(os.path.join(dataset_dir, 'labels', split), exist_ok=True)\n",
        "\n",
        "    images = sorted([f for f in os.listdir(image_dir) if f.endswith(('.jpg', '.png'))])\n",
        "    labels = sorted([f for f in os.listdir(label_dir) if f.endswith('.txt')])\n",
        "\n",
        "    img_train, img_test, lbl_train, lbl_test = train_test_split(images, labels, test_size=0.2, random_state=42)\n",
        "    img_val, img_test, lbl_val, lbl_test = train_test_split(img_test, lbl_test, test_size=0.5, random_state=42)\n",
        "\n",
        "    def move_files(files, src_folder, dst_folder):\n",
        "        for file in files:\n",
        "            shutil.move(os.path.join(src_folder, file), os.path.join(dst_folder, file))\n",
        "\n",
        "    def copy_files(files, src_folder, dst_folder):\n",
        "        for file in files:\n",
        "            shutil.copy(os.path.join(src_folder, file), os.path.join(dst_folder, file))\n",
        "\n",
        "    copy_files(img_train, image_dir, os.path.join(dataset_dir, 'images', 'train'))\n",
        "    copy_files(lbl_train, label_dir, os.path.join(dataset_dir, 'labels', 'train'))\n",
        "    copy_files(img_val, image_dir, os.path.join(dataset_dir, 'images', 'val'))\n",
        "    copy_files(lbl_val, label_dir, os.path.join(dataset_dir, 'labels', 'val'))\n",
        "    copy_files(img_test, image_dir, os.path.join(dataset_dir, 'images', 'test'))\n",
        "    copy_files(lbl_test, label_dir, os.path.join(dataset_dir, 'labels', 'test'))\n",
        "\n",
        "def create_yaml_file(dataset_dir, classes):\n",
        "    \"\"\" Erstellt die dataset.yaml Datei \"\"\"\n",
        "    print(os.path.join(dataset_dir, 'images', 'val'))\n",
        "    data_yaml = {\n",
        "        'train': os.path.join(dataset_dir, 'images', 'train'),\n",
        "        'val': os.path.join(dataset_dir, 'images', 'val'),\n",
        "        'test': os.path.join(dataset_dir, 'images', 'test'),\n",
        "        'nc': len(classes),\n",
        "        'names': classes\n",
        "    }\n",
        "    with open(os.path.join(dataset_dir, 'dataset.yaml'), 'w') as f:\n",
        "        yaml.dump(data_yaml, f)\n",
        "\n",
        "def train_yolo_model(yaml_path, epochs=50, batch_size=16):\n",
        "    \"\"\" Trainiert das YOLO-Modell \"\"\"\n",
        "    device = torch.device(\"cuda\")\n",
        "    model = YOLO(\"/content/drive/My Drive/yolov5n.pt\")\n",
        "    model.train(data=yaml_path, epochs=epochs, batch=batch_size, imgsz=640, device=device)\n",
        "\n",
        "def test_model(model_path, test_image):\n",
        "    \"\"\" Testet das Modell mit einem Bild \"\"\"\n",
        "    model = YOLO(model_path)\n",
        "    results = model(test_image, save=True)\n",
        "    return results\n",
        "\n",
        "if __name__ == \"__main__\":\n",
        "    # Drive cloude\n",
        "    IMAGE_DIR = \"./model/images\"  # Ordner mit Bildern\n",
        "    LABEL_DIR = \"./model/labels\"  # Ordner mit YOLO-Labels (.txt)\n",
        "    DATASET_DIR = \"/content/dataset\"  # Zielordner für YOLO Datenstruktur\n",
        "\n",
        "    # Classes\n",
        "    CLASSES = [\"ball\"]\n",
        "\n",
        "    print(\"Setup yolo dataset\")\n",
        "    setup_yolo_dataset(IMAGE_DIR, LABEL_DIR, DATASET_DIR)\n",
        "\n",
        "    print(\"create yaml file\")\n",
        "    create_yaml_file(DATASET_DIR, CLASSES)\n",
        "\n",
        "    print(\"train yolo model\")\n",
        "    YAML_PATH = os.path.join(DATASET_DIR, 'dataset.yaml')\n",
        "    train_yolo_model(YAML_PATH, epochs=50, batch_size=16)\n",
        "\n",
        "    # TEST_IMAGE = \"./train/data/0001.png\"\n",
        "    # test_results = test_model(\"runs/detect/train/weights/best.pt\", TEST_IMAGE)\n"
      ]
    },
    {
      "cell_type": "markdown",
      "metadata": {},
      "source": [
        "### 6. Zip all files you want for download"
      ]
    },
    {
      "cell_type": "code",
      "execution_count": null,
      "metadata": {
        "colab": {
          "base_uri": "https://localhost:8080/"
        },
        "id": "UE1YjXb4Z3Z9",
        "outputId": "71581f98-b732-452f-8303-6e2a46aeb0d8"
      },
      "outputs": [],
      "source": [
        "import locale\n",
        "locale.getpreferredencoding = lambda: 'UTF-8'\n",
        "!zip -r result.zip /content/runs/detect/train/"
      ]
    }
  ],
  "metadata": {
    "accelerator": "GPU",
    "colab": {
      "gpuType": "T4",
      "provenance": []
    },
    "kernelspec": {
      "display_name": "venv",
      "language": "python",
      "name": "python3"
    },
    "language_info": {
      "codemirror_mode": {
        "name": "ipython",
        "version": 3
      },
      "file_extension": ".py",
      "mimetype": "text/x-python",
      "name": "python",
      "nbconvert_exporter": "python",
      "pygments_lexer": "ipython3",
      "version": "3.11.9"
    }
  },
  "nbformat": 4,
  "nbformat_minor": 0
}
